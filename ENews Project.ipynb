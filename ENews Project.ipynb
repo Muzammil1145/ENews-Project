{
 "cells": [
  {
   "cell_type": "markdown",
   "id": "efd8a29e",
   "metadata": {},
   "source": [
    "# Project Business Statistics: E-news Express"
   ]
  },
  {
   "cell_type": "markdown",
   "id": "af52c6fd",
   "metadata": {},
   "source": [
    "## Business Context "
   ]
  },
  {
   "cell_type": "markdown",
   "id": "b95ff050",
   "metadata": {},
   "source": [
    "The advent of e-news, or electronic news, portals has offered us a great opportunity to quickly get updates on the day-to-day events occurring globally. The information on these portals is retrieved electronically from online databases, processed using a variety of software, and then transmitted to the users. There are multiple advantages of transmitting new electronically, like faster access to the content and the ability to utilize different technologies such as audio, graphics, video, and other interactive elements that are either not being used or aren’t common yet in traditional newspapers.\n",
    "\n",
    "E-news Express, an online news portal, aims to expand its business by acquiring new subscribers. With every visitor to the website taking certain actions based on their interest, the company plans to analyze these actions to understand user interests and determine how to drive better engagement. The executives at E-news Express are of the opinion that there has been a decline in new monthly subscribers compared to the past year because the current webpage is not designed well enough in terms of the outline & recommended content to keep customers engaged long enough to make a decision to subscribe.\n",
    "\n",
    "[Companies often analyze user responses to two variants of a product to decide which of the two variants is more effective. This experimental technique, known as A/B testing, is used to determine whether a new feature attracts users based on a chosen metric.]"
   ]
  },
  {
   "cell_type": "markdown",
   "id": "288515c3",
   "metadata": {},
   "source": [
    "## Objective"
   ]
  },
  {
   "cell_type": "markdown",
   "id": "0203c79f",
   "metadata": {},
   "source": [
    "The design team of the company has researched and created a new landing page that has a new outline & more relevant content shown compared to the old page. In order to test the effectiveness of the new landing page in gathering new subscribers, the Data Science team conducted an experiment by randomly selecting 100 users and dividing them equally into two groups. The existing landing page was served to the first group (control group) and the new landing page to the second group (treatment group). Data regarding the interaction of users in both groups with the two versions of the landing page was collected. Being a data scientist in E-news Express, you have been asked to explore the data and perform a statistical analysis (at a significance level of 5%) to determine the effectiveness of the new landing page in gathering new subscribers for the news portal by answering the following questions:\n",
    "\n",
    "1. Do the users spend more time on the new landing page than on the existing landing page?\n",
    "\n",
    "\n",
    "2. Is the conversion rate (the proportion of users who visit the landing page and get converted) for thenew page greater than the conversion rate for the old page?\n",
    "\n",
    "\n",
    "3. Does the converted status depend on the preferred language? [Hint: Create a contingency table using the pandas.crosstab() function]\n",
    "\n",
    "\n",
    "4. Is the time spent on the new page the same for the different language users?"
   ]
  },
  {
   "cell_type": "markdown",
   "id": "f8dc1f9c",
   "metadata": {},
   "source": [
    "## Data Dictionary"
   ]
  },
  {
   "cell_type": "markdown",
   "id": "18ce2049",
   "metadata": {},
   "source": [
    "The data contains information regarding the interaction of users in both groups with the two versions of the landing page.\n",
    "\n",
    "1. user_id - Unique user ID of the person visiting the website\n",
    "\n",
    "\n",
    "2. group - Whether the user belongs to the first group (control) or the second group (treatment)\n",
    "\n",
    "\n",
    "3. landing_page - Whether the landing page is new or old\n",
    "\n",
    "\n",
    "4. time_spent_on_the_page - Time (in minutes) spent by the user on the landing page\n",
    "\n",
    "\n",
    "5. converted - Whether the user gets converted to a subscriber of the news portal or not\n",
    "\n",
    "\n",
    "6. language_preferred - Language chosen by the user to view the landing page"
   ]
  },
  {
   "cell_type": "markdown",
   "id": "61145eb7",
   "metadata": {},
   "source": [
    "## Import the Necessary Libraries "
   ]
  },
  {
   "cell_type": "code",
   "execution_count": 1,
   "id": "2c529508",
   "metadata": {},
   "outputs": [],
   "source": [
    "import numpy as np\n",
    "import pandas as pd\n",
    "import matplotlib.pyplot as plt\n",
    "import seaborn as sns \n",
    "from scipy.stats import stats"
   ]
  },
  {
   "cell_type": "markdown",
   "id": "78127f94",
   "metadata": {},
   "source": [
    "## Loading the Dataset "
   ]
  },
  {
   "cell_type": "code",
   "execution_count": 2,
   "id": "a62158d4",
   "metadata": {},
   "outputs": [],
   "source": [
    "df = pd.read_csv('abtest.csv')"
   ]
  },
  {
   "cell_type": "markdown",
   "id": "8c88c790",
   "metadata": {},
   "source": [
    "## Explore the dataset and extract insights using Exploratory Data Analysis"
   ]
  },
  {
   "cell_type": "markdown",
   "id": "971a3b47",
   "metadata": {},
   "source": [
    "### Data Overview "
   ]
  },
  {
   "cell_type": "code",
   "execution_count": 3,
   "id": "bea87ac9",
   "metadata": {},
   "outputs": [
    {
     "data": {
      "text/html": [
       "<div>\n",
       "<style scoped>\n",
       "    .dataframe tbody tr th:only-of-type {\n",
       "        vertical-align: middle;\n",
       "    }\n",
       "\n",
       "    .dataframe tbody tr th {\n",
       "        vertical-align: top;\n",
       "    }\n",
       "\n",
       "    .dataframe thead th {\n",
       "        text-align: right;\n",
       "    }\n",
       "</style>\n",
       "<table border=\"1\" class=\"dataframe\">\n",
       "  <thead>\n",
       "    <tr style=\"text-align: right;\">\n",
       "      <th></th>\n",
       "      <th>user_id</th>\n",
       "      <th>group</th>\n",
       "      <th>landing_page</th>\n",
       "      <th>time_spent_on_the_page</th>\n",
       "      <th>converted</th>\n",
       "      <th>language_preferred</th>\n",
       "    </tr>\n",
       "  </thead>\n",
       "  <tbody>\n",
       "    <tr>\n",
       "      <th>0</th>\n",
       "      <td>546592</td>\n",
       "      <td>control</td>\n",
       "      <td>old</td>\n",
       "      <td>3.48</td>\n",
       "      <td>no</td>\n",
       "      <td>Spanish</td>\n",
       "    </tr>\n",
       "    <tr>\n",
       "      <th>1</th>\n",
       "      <td>546468</td>\n",
       "      <td>treatment</td>\n",
       "      <td>new</td>\n",
       "      <td>7.13</td>\n",
       "      <td>yes</td>\n",
       "      <td>English</td>\n",
       "    </tr>\n",
       "    <tr>\n",
       "      <th>2</th>\n",
       "      <td>546462</td>\n",
       "      <td>treatment</td>\n",
       "      <td>new</td>\n",
       "      <td>4.40</td>\n",
       "      <td>no</td>\n",
       "      <td>Spanish</td>\n",
       "    </tr>\n",
       "    <tr>\n",
       "      <th>3</th>\n",
       "      <td>546567</td>\n",
       "      <td>control</td>\n",
       "      <td>old</td>\n",
       "      <td>3.02</td>\n",
       "      <td>no</td>\n",
       "      <td>French</td>\n",
       "    </tr>\n",
       "    <tr>\n",
       "      <th>4</th>\n",
       "      <td>546459</td>\n",
       "      <td>treatment</td>\n",
       "      <td>new</td>\n",
       "      <td>4.75</td>\n",
       "      <td>yes</td>\n",
       "      <td>Spanish</td>\n",
       "    </tr>\n",
       "  </tbody>\n",
       "</table>\n",
       "</div>"
      ],
      "text/plain": [
       "   user_id      group landing_page  time_spent_on_the_page converted  \\\n",
       "0   546592    control          old                    3.48        no   \n",
       "1   546468  treatment          new                    7.13       yes   \n",
       "2   546462  treatment          new                    4.40        no   \n",
       "3   546567    control          old                    3.02        no   \n",
       "4   546459  treatment          new                    4.75       yes   \n",
       "\n",
       "  language_preferred  \n",
       "0            Spanish  \n",
       "1            English  \n",
       "2            Spanish  \n",
       "3             French  \n",
       "4            Spanish  "
      ]
     },
     "execution_count": 3,
     "metadata": {},
     "output_type": "execute_result"
    }
   ],
   "source": [
    "#Viewing the first 5 rows of the dataset\n",
    "df.head()"
   ]
  },
  {
   "cell_type": "code",
   "execution_count": 4,
   "id": "ab45ff2e",
   "metadata": {},
   "outputs": [
    {
     "data": {
      "text/html": [
       "<div>\n",
       "<style scoped>\n",
       "    .dataframe tbody tr th:only-of-type {\n",
       "        vertical-align: middle;\n",
       "    }\n",
       "\n",
       "    .dataframe tbody tr th {\n",
       "        vertical-align: top;\n",
       "    }\n",
       "\n",
       "    .dataframe thead th {\n",
       "        text-align: right;\n",
       "    }\n",
       "</style>\n",
       "<table border=\"1\" class=\"dataframe\">\n",
       "  <thead>\n",
       "    <tr style=\"text-align: right;\">\n",
       "      <th></th>\n",
       "      <th>user_id</th>\n",
       "      <th>group</th>\n",
       "      <th>landing_page</th>\n",
       "      <th>time_spent_on_the_page</th>\n",
       "      <th>converted</th>\n",
       "      <th>language_preferred</th>\n",
       "    </tr>\n",
       "  </thead>\n",
       "  <tbody>\n",
       "    <tr>\n",
       "      <th>95</th>\n",
       "      <td>546446</td>\n",
       "      <td>treatment</td>\n",
       "      <td>new</td>\n",
       "      <td>5.15</td>\n",
       "      <td>no</td>\n",
       "      <td>Spanish</td>\n",
       "    </tr>\n",
       "    <tr>\n",
       "      <th>96</th>\n",
       "      <td>546544</td>\n",
       "      <td>control</td>\n",
       "      <td>old</td>\n",
       "      <td>6.52</td>\n",
       "      <td>yes</td>\n",
       "      <td>English</td>\n",
       "    </tr>\n",
       "    <tr>\n",
       "      <th>97</th>\n",
       "      <td>546472</td>\n",
       "      <td>treatment</td>\n",
       "      <td>new</td>\n",
       "      <td>7.07</td>\n",
       "      <td>yes</td>\n",
       "      <td>Spanish</td>\n",
       "    </tr>\n",
       "    <tr>\n",
       "      <th>98</th>\n",
       "      <td>546481</td>\n",
       "      <td>treatment</td>\n",
       "      <td>new</td>\n",
       "      <td>6.20</td>\n",
       "      <td>yes</td>\n",
       "      <td>Spanish</td>\n",
       "    </tr>\n",
       "    <tr>\n",
       "      <th>99</th>\n",
       "      <td>546483</td>\n",
       "      <td>treatment</td>\n",
       "      <td>new</td>\n",
       "      <td>5.86</td>\n",
       "      <td>yes</td>\n",
       "      <td>English</td>\n",
       "    </tr>\n",
       "  </tbody>\n",
       "</table>\n",
       "</div>"
      ],
      "text/plain": [
       "    user_id      group landing_page  time_spent_on_the_page converted  \\\n",
       "95   546446  treatment          new                    5.15        no   \n",
       "96   546544    control          old                    6.52       yes   \n",
       "97   546472  treatment          new                    7.07       yes   \n",
       "98   546481  treatment          new                    6.20       yes   \n",
       "99   546483  treatment          new                    5.86       yes   \n",
       "\n",
       "   language_preferred  \n",
       "95            Spanish  \n",
       "96            English  \n",
       "97            Spanish  \n",
       "98            Spanish  \n",
       "99            English  "
      ]
     },
     "execution_count": 4,
     "metadata": {},
     "output_type": "execute_result"
    }
   ],
   "source": [
    "#Viewing the last 5 rows of the dataset\n",
    "df.tail()"
   ]
  },
  {
   "cell_type": "code",
   "execution_count": 5,
   "id": "a799aa42",
   "metadata": {},
   "outputs": [
    {
     "data": {
      "text/plain": [
       "(100, 6)"
      ]
     },
     "execution_count": 5,
     "metadata": {},
     "output_type": "execute_result"
    }
   ],
   "source": [
    "#Amount of rows and columns in the datatset\n",
    "df.shape"
   ]
  },
  {
   "cell_type": "code",
   "execution_count": 6,
   "id": "3b846c0b",
   "metadata": {},
   "outputs": [
    {
     "name": "stdout",
     "output_type": "stream",
     "text": [
      "<class 'pandas.core.frame.DataFrame'>\n",
      "RangeIndex: 100 entries, 0 to 99\n",
      "Data columns (total 6 columns):\n",
      " #   Column                  Non-Null Count  Dtype  \n",
      "---  ------                  --------------  -----  \n",
      " 0   user_id                 100 non-null    int64  \n",
      " 1   group                   100 non-null    object \n",
      " 2   landing_page            100 non-null    object \n",
      " 3   time_spent_on_the_page  100 non-null    float64\n",
      " 4   converted               100 non-null    object \n",
      " 5   language_preferred      100 non-null    object \n",
      "dtypes: float64(1), int64(1), object(4)\n",
      "memory usage: 4.8+ KB\n"
     ]
    }
   ],
   "source": [
    "#Dataset info\n",
    "df.info()"
   ]
  },
  {
   "cell_type": "code",
   "execution_count": 7,
   "id": "a04e3666",
   "metadata": {},
   "outputs": [
    {
     "data": {
      "text/html": [
       "<div>\n",
       "<style scoped>\n",
       "    .dataframe tbody tr th:only-of-type {\n",
       "        vertical-align: middle;\n",
       "    }\n",
       "\n",
       "    .dataframe tbody tr th {\n",
       "        vertical-align: top;\n",
       "    }\n",
       "\n",
       "    .dataframe thead th {\n",
       "        text-align: right;\n",
       "    }\n",
       "</style>\n",
       "<table border=\"1\" class=\"dataframe\">\n",
       "  <thead>\n",
       "    <tr style=\"text-align: right;\">\n",
       "      <th></th>\n",
       "      <th>user_id</th>\n",
       "      <th>time_spent_on_the_page</th>\n",
       "    </tr>\n",
       "  </thead>\n",
       "  <tbody>\n",
       "    <tr>\n",
       "      <th>count</th>\n",
       "      <td>100.000000</td>\n",
       "      <td>100.000000</td>\n",
       "    </tr>\n",
       "    <tr>\n",
       "      <th>mean</th>\n",
       "      <td>546517.000000</td>\n",
       "      <td>5.377800</td>\n",
       "    </tr>\n",
       "    <tr>\n",
       "      <th>std</th>\n",
       "      <td>52.295779</td>\n",
       "      <td>2.378166</td>\n",
       "    </tr>\n",
       "    <tr>\n",
       "      <th>min</th>\n",
       "      <td>546443.000000</td>\n",
       "      <td>0.190000</td>\n",
       "    </tr>\n",
       "    <tr>\n",
       "      <th>25%</th>\n",
       "      <td>546467.750000</td>\n",
       "      <td>3.880000</td>\n",
       "    </tr>\n",
       "    <tr>\n",
       "      <th>50%</th>\n",
       "      <td>546492.500000</td>\n",
       "      <td>5.415000</td>\n",
       "    </tr>\n",
       "    <tr>\n",
       "      <th>75%</th>\n",
       "      <td>546567.250000</td>\n",
       "      <td>7.022500</td>\n",
       "    </tr>\n",
       "    <tr>\n",
       "      <th>max</th>\n",
       "      <td>546592.000000</td>\n",
       "      <td>10.710000</td>\n",
       "    </tr>\n",
       "  </tbody>\n",
       "</table>\n",
       "</div>"
      ],
      "text/plain": [
       "             user_id  time_spent_on_the_page\n",
       "count     100.000000              100.000000\n",
       "mean   546517.000000                5.377800\n",
       "std        52.295779                2.378166\n",
       "min    546443.000000                0.190000\n",
       "25%    546467.750000                3.880000\n",
       "50%    546492.500000                5.415000\n",
       "75%    546567.250000                7.022500\n",
       "max    546592.000000               10.710000"
      ]
     },
     "execution_count": 7,
     "metadata": {},
     "output_type": "execute_result"
    }
   ],
   "source": [
    "#Statistical summary for numerical variables\n",
    "df.describe()"
   ]
  },
  {
   "cell_type": "code",
   "execution_count": 8,
   "id": "2416e569",
   "metadata": {},
   "outputs": [
    {
     "data": {
      "text/html": [
       "<div>\n",
       "<style scoped>\n",
       "    .dataframe tbody tr th:only-of-type {\n",
       "        vertical-align: middle;\n",
       "    }\n",
       "\n",
       "    .dataframe tbody tr th {\n",
       "        vertical-align: top;\n",
       "    }\n",
       "\n",
       "    .dataframe thead th {\n",
       "        text-align: right;\n",
       "    }\n",
       "</style>\n",
       "<table border=\"1\" class=\"dataframe\">\n",
       "  <thead>\n",
       "    <tr style=\"text-align: right;\">\n",
       "      <th></th>\n",
       "      <th>user_id</th>\n",
       "      <th>group</th>\n",
       "      <th>landing_page</th>\n",
       "      <th>time_spent_on_the_page</th>\n",
       "      <th>converted</th>\n",
       "      <th>language_preferred</th>\n",
       "    </tr>\n",
       "  </thead>\n",
       "  <tbody>\n",
       "    <tr>\n",
       "      <th>count</th>\n",
       "      <td>100.000000</td>\n",
       "      <td>100</td>\n",
       "      <td>100</td>\n",
       "      <td>100.000000</td>\n",
       "      <td>100</td>\n",
       "      <td>100</td>\n",
       "    </tr>\n",
       "    <tr>\n",
       "      <th>unique</th>\n",
       "      <td>NaN</td>\n",
       "      <td>2</td>\n",
       "      <td>2</td>\n",
       "      <td>NaN</td>\n",
       "      <td>2</td>\n",
       "      <td>3</td>\n",
       "    </tr>\n",
       "    <tr>\n",
       "      <th>top</th>\n",
       "      <td>NaN</td>\n",
       "      <td>control</td>\n",
       "      <td>old</td>\n",
       "      <td>NaN</td>\n",
       "      <td>yes</td>\n",
       "      <td>Spanish</td>\n",
       "    </tr>\n",
       "    <tr>\n",
       "      <th>freq</th>\n",
       "      <td>NaN</td>\n",
       "      <td>50</td>\n",
       "      <td>50</td>\n",
       "      <td>NaN</td>\n",
       "      <td>54</td>\n",
       "      <td>34</td>\n",
       "    </tr>\n",
       "    <tr>\n",
       "      <th>mean</th>\n",
       "      <td>546517.000000</td>\n",
       "      <td>NaN</td>\n",
       "      <td>NaN</td>\n",
       "      <td>5.377800</td>\n",
       "      <td>NaN</td>\n",
       "      <td>NaN</td>\n",
       "    </tr>\n",
       "    <tr>\n",
       "      <th>std</th>\n",
       "      <td>52.295779</td>\n",
       "      <td>NaN</td>\n",
       "      <td>NaN</td>\n",
       "      <td>2.378166</td>\n",
       "      <td>NaN</td>\n",
       "      <td>NaN</td>\n",
       "    </tr>\n",
       "    <tr>\n",
       "      <th>min</th>\n",
       "      <td>546443.000000</td>\n",
       "      <td>NaN</td>\n",
       "      <td>NaN</td>\n",
       "      <td>0.190000</td>\n",
       "      <td>NaN</td>\n",
       "      <td>NaN</td>\n",
       "    </tr>\n",
       "    <tr>\n",
       "      <th>25%</th>\n",
       "      <td>546467.750000</td>\n",
       "      <td>NaN</td>\n",
       "      <td>NaN</td>\n",
       "      <td>3.880000</td>\n",
       "      <td>NaN</td>\n",
       "      <td>NaN</td>\n",
       "    </tr>\n",
       "    <tr>\n",
       "      <th>50%</th>\n",
       "      <td>546492.500000</td>\n",
       "      <td>NaN</td>\n",
       "      <td>NaN</td>\n",
       "      <td>5.415000</td>\n",
       "      <td>NaN</td>\n",
       "      <td>NaN</td>\n",
       "    </tr>\n",
       "    <tr>\n",
       "      <th>75%</th>\n",
       "      <td>546567.250000</td>\n",
       "      <td>NaN</td>\n",
       "      <td>NaN</td>\n",
       "      <td>7.022500</td>\n",
       "      <td>NaN</td>\n",
       "      <td>NaN</td>\n",
       "    </tr>\n",
       "    <tr>\n",
       "      <th>max</th>\n",
       "      <td>546592.000000</td>\n",
       "      <td>NaN</td>\n",
       "      <td>NaN</td>\n",
       "      <td>10.710000</td>\n",
       "      <td>NaN</td>\n",
       "      <td>NaN</td>\n",
       "    </tr>\n",
       "  </tbody>\n",
       "</table>\n",
       "</div>"
      ],
      "text/plain": [
       "              user_id    group landing_page  time_spent_on_the_page converted  \\\n",
       "count      100.000000      100          100              100.000000       100   \n",
       "unique            NaN        2            2                     NaN         2   \n",
       "top               NaN  control          old                     NaN       yes   \n",
       "freq              NaN       50           50                     NaN        54   \n",
       "mean    546517.000000      NaN          NaN                5.377800       NaN   \n",
       "std         52.295779      NaN          NaN                2.378166       NaN   \n",
       "min     546443.000000      NaN          NaN                0.190000       NaN   \n",
       "25%     546467.750000      NaN          NaN                3.880000       NaN   \n",
       "50%     546492.500000      NaN          NaN                5.415000       NaN   \n",
       "75%     546567.250000      NaN          NaN                7.022500       NaN   \n",
       "max     546592.000000      NaN          NaN               10.710000       NaN   \n",
       "\n",
       "       language_preferred  \n",
       "count                 100  \n",
       "unique                  3  \n",
       "top               Spanish  \n",
       "freq                   34  \n",
       "mean                  NaN  \n",
       "std                   NaN  \n",
       "min                   NaN  \n",
       "25%                   NaN  \n",
       "50%                   NaN  \n",
       "75%                   NaN  \n",
       "max                   NaN  "
      ]
     },
     "execution_count": 8,
     "metadata": {},
     "output_type": "execute_result"
    }
   ],
   "source": [
    "#Statistical summary for categorical variables \n",
    "df.describe(include='all')"
   ]
  },
  {
   "cell_type": "markdown",
   "id": "4e88d1cc",
   "metadata": {},
   "source": [
    "## Check for Missing Values "
   ]
  },
  {
   "cell_type": "code",
   "execution_count": 9,
   "id": "31fd3245",
   "metadata": {},
   "outputs": [
    {
     "data": {
      "text/plain": [
       "user_id                   0\n",
       "group                     0\n",
       "landing_page              0\n",
       "time_spent_on_the_page    0\n",
       "converted                 0\n",
       "language_preferred        0\n",
       "dtype: int64"
      ]
     },
     "execution_count": 9,
     "metadata": {},
     "output_type": "execute_result"
    }
   ],
   "source": [
    "#Checking for missing values\n",
    "df.isnull().sum()"
   ]
  },
  {
   "cell_type": "markdown",
   "id": "df176507",
   "metadata": {},
   "source": [
    "## Checking for Duplicates "
   ]
  },
  {
   "cell_type": "code",
   "execution_count": 10,
   "id": "f1034070",
   "metadata": {},
   "outputs": [
    {
     "data": {
      "text/plain": [
       "0"
      ]
     },
     "execution_count": 10,
     "metadata": {},
     "output_type": "execute_result"
    }
   ],
   "source": [
    "#Checking for duplicates \n",
    "df.duplicated().sum()"
   ]
  },
  {
   "cell_type": "markdown",
   "id": "dcb70b65",
   "metadata": {},
   "source": [
    "## Univariate Analysis "
   ]
  },
  {
   "cell_type": "markdown",
   "id": "4228c6d3",
   "metadata": {},
   "source": [
    "### Time Spent on a Page "
   ]
  },
  {
   "cell_type": "code",
   "execution_count": 11,
   "id": "b61d60f8",
   "metadata": {},
   "outputs": [
    {
     "data": {
      "image/png": "[encoded data removed]",
      "text/plain": [
       "<Figure size 432x288 with 1 Axes>"
      ]
     },
     "metadata": {
      "needs_background": "light"
     },
     "output_type": "display_data"
    },
    {
     "data": {
      "image/png": "[encoded data removed]",
      "text/plain": [
       "<Figure size 432x288 with 1 Axes>"
      ]
     },
     "metadata": {
      "needs_background": "light"
     },
     "output_type": "display_data"
    }
   ],
   "source": [
    "sns.histplot(data=df,x='time_spent_on_the_page',kde=True)\n",
    "plt.show()\n",
    "sns.boxplot(data=df,x='time_spent_on_the_page')\n",
    "plt.show()"
   ]
  },
  {
   "cell_type": "markdown",
   "id": "7f80d3bb",
   "metadata": {},
   "source": [
    "#### Observations:\n",
    "* The distribution is approximately normal, in which the median time spent on the page is 5 minutes"
   ]
  },
  {
   "cell_type": "markdown",
   "id": "2287da80",
   "metadata": {},
   "source": [
    "### Group"
   ]
  },
  {
   "cell_type": "code",
   "execution_count": 12,
   "id": "043a52b9",
   "metadata": {},
   "outputs": [
    {
     "data": {
      "text/plain": [
       "control      50\n",
       "treatment    50\n",
       "Name: group, dtype: int64"
      ]
     },
     "execution_count": 12,
     "metadata": {},
     "output_type": "execute_result"
    }
   ],
   "source": [
    "df['group'].value_counts()"
   ]
  },
  {
   "cell_type": "code",
   "execution_count": 13,
   "id": "0cdbf975",
   "metadata": {},
   "outputs": [
    {
     "data": {
      "text/plain": [
       "<AxesSubplot:xlabel='group', ylabel='count'>"
      ]
     },
     "execution_count": 13,
     "metadata": {},
     "output_type": "execute_result"
    },
    {
     "data": {
      "image/png": "[encoded data removed]",
      "text/plain": [
       "<Figure size 432x288 with 1 Axes>"
      ]
     },
     "metadata": {
      "needs_background": "light"
     },
     "output_type": "display_data"
    }
   ],
   "source": [
    "sns.countplot(data=df,x='group')"
   ]
  },
  {
   "cell_type": "markdown",
   "id": "f2921e0e",
   "metadata": {},
   "source": [
    "### Landing Page "
   ]
  },
  {
   "cell_type": "code",
   "execution_count": 14,
   "id": "a50c5a9e",
   "metadata": {},
   "outputs": [
    {
     "data": {
      "text/plain": [
       "old    50\n",
       "new    50\n",
       "Name: landing_page, dtype: int64"
      ]
     },
     "execution_count": 14,
     "metadata": {},
     "output_type": "execute_result"
    }
   ],
   "source": [
    "df['landing_page'].value_counts()"
   ]
  },
  {
   "cell_type": "code",
   "execution_count": 15,
   "id": "9c5d43cd",
   "metadata": {},
   "outputs": [
    {
     "data": {
      "text/plain": [
       "<AxesSubplot:xlabel='landing_page', ylabel='count'>"
      ]
     },
     "execution_count": 15,
     "metadata": {},
     "output_type": "execute_result"
    },
    {
     "data": {
      "image/png": "[encoded data removed]",
      "text/plain": [
       "<Figure size 432x288 with 1 Axes>"
      ]
     },
     "metadata": {
      "needs_background": "light"
     },
     "output_type": "display_data"
    }
   ],
   "source": [
    "sns.countplot(data=df,x='landing_page')"
   ]
  },
  {
   "cell_type": "markdown",
   "id": "dead439d",
   "metadata": {},
   "source": [
    "### Converted "
   ]
  },
  {
   "cell_type": "code",
   "execution_count": 16,
   "id": "7698f246",
   "metadata": {},
   "outputs": [
    {
     "data": {
      "text/plain": [
       "yes    54\n",
       "no     46\n",
       "Name: converted, dtype: int64"
      ]
     },
     "execution_count": 16,
     "metadata": {},
     "output_type": "execute_result"
    }
   ],
   "source": [
    "df['converted'].value_counts()"
   ]
  },
  {
   "cell_type": "code",
   "execution_count": 17,
   "id": "e2b873fd",
   "metadata": {},
   "outputs": [
    {
     "data": {
      "text/plain": [
       "<AxesSubplot:xlabel='converted', ylabel='count'>"
      ]
     },
     "execution_count": 17,
     "metadata": {},
     "output_type": "execute_result"
    },
    {
     "data": {
      "image/png": "[encoded data removed]",
      "text/plain": [
       "<Figure size 432x288 with 1 Axes>"
      ]
     },
     "metadata": {
      "needs_background": "light"
     },
     "output_type": "display_data"
    }
   ],
   "source": [
    "sns.countplot(data=df,x='converted')"
   ]
  },
  {
   "cell_type": "markdown",
   "id": "24675bb5",
   "metadata": {},
   "source": [
    "#### Observations:\n",
    "   * More users gave converted to suscriber after viewing E-News landpage"
   ]
  },
  {
   "cell_type": "markdown",
   "id": "be822814",
   "metadata": {},
   "source": [
    "### Language Preferred "
   ]
  },
  {
   "cell_type": "code",
   "execution_count": 18,
   "id": "18cb4cbe",
   "metadata": {},
   "outputs": [
    {
     "data": {
      "text/plain": [
       "Spanish    34\n",
       "French     34\n",
       "English    32\n",
       "Name: language_preferred, dtype: int64"
      ]
     },
     "execution_count": 18,
     "metadata": {},
     "output_type": "execute_result"
    }
   ],
   "source": [
    "df['language_preferred'].value_counts()"
   ]
  },
  {
   "cell_type": "code",
   "execution_count": 19,
   "id": "d6e5ca48",
   "metadata": {},
   "outputs": [
    {
     "data": {
      "text/plain": [
       "<AxesSubplot:xlabel='language_preferred', ylabel='count'>"
      ]
     },
     "execution_count": 19,
     "metadata": {},
     "output_type": "execute_result"
    },
    {
     "data": {
      "image/png": "[encoded data removed]",
      "text/plain": [
       "<Figure size 432x288 with 1 Axes>"
      ]
     },
     "metadata": {
      "needs_background": "light"
     },
     "output_type": "display_data"
    }
   ],
   "source": [
    "sns.countplot(data=df,x='language_preferred')"
   ]
  },
  {
   "cell_type": "markdown",
   "id": "40f7d172",
   "metadata": {},
   "source": [
    "#### Observations:\n",
    "* More people prefer Spanish and French than English as the preferred language"
   ]
  },
  {
   "cell_type": "markdown",
   "id": "f2c3a7e2",
   "metadata": {},
   "source": [
    "## Bivariate Analysis "
   ]
  },
  {
   "cell_type": "markdown",
   "id": "12ac4f34",
   "metadata": {},
   "source": [
    "### Landing Page vs Time Spent "
   ]
  },
  {
   "cell_type": "code",
   "execution_count": 20,
   "id": "192c1d85",
   "metadata": {},
   "outputs": [
    {
     "data": {
      "text/plain": [
       "<AxesSubplot:xlabel='time_spent_on_the_page', ylabel='landing_page'>"
      ]
     },
     "execution_count": 20,
     "metadata": {},
     "output_type": "execute_result"
    },
    {
     "data": {
      "image/png": "[encoded data removed]",
      "text/plain": [
       "<Figure size 1080x504 with 1 Axes>"
      ]
     },
     "metadata": {
      "needs_background": "light"
     },
     "output_type": "display_data"
    }
   ],
   "source": [
    "plt.figure(figsize=(15,7))\n",
    "sns.boxplot(data=df,x='time_spent_on_the_page',y='landing_page')"
   ]
  },
  {
   "cell_type": "markdown",
   "id": "53147142",
   "metadata": {},
   "source": [
    "* We can see that based on the boxplot depiction, the median time spent on the new landing page vs the old landing page is higher and this will likely create an attraction to the new landing page "
   ]
  },
  {
   "cell_type": "markdown",
   "id": "9109f371",
   "metadata": {},
   "source": [
    "### Time Spent vs Conversion "
   ]
  },
  {
   "cell_type": "code",
   "execution_count": 21,
   "id": "385dff74",
   "metadata": {},
   "outputs": [
    {
     "data": {
      "text/plain": [
       "<AxesSubplot:xlabel='time_spent_on_the_page', ylabel='converted'>"
      ]
     },
     "execution_count": 21,
     "metadata": {},
     "output_type": "execute_result"
    },
    {
     "data": {
      "image/png": "[encoded data removed]",
      "text/plain": [
       "<Figure size 1080x504 with 1 Axes>"
      ]
     },
     "metadata": {
      "needs_background": "light"
     },
     "output_type": "display_data"
    }
   ],
   "source": [
    "plt.figure(figsize=(15,7))\n",
    "sns.boxplot(data=df,x='time_spent_on_the_page',y='converted')"
   ]
  },
  {
   "cell_type": "markdown",
   "id": "db31420f",
   "metadata": {},
   "source": [
    "* Based on this, we see that people that converted to suscriber had a higher median time spent on the page than the person who did not suscribe, and there are some more outliers near the higher whisker which may indicate that there are people that go over the 10 minute mark when becoming a suscriber"
   ]
  },
  {
   "cell_type": "markdown",
   "id": "01b60431",
   "metadata": {},
   "source": [
    "### Language Preferred vs Time Spent"
   ]
  },
  {
   "cell_type": "code",
   "execution_count": 22,
   "id": "f65d0776",
   "metadata": {},
   "outputs": [
    {
     "data": {
      "text/plain": [
       "<AxesSubplot:xlabel='time_spent_on_the_page', ylabel='language_preferred'>"
      ]
     },
     "execution_count": 22,
     "metadata": {},
     "output_type": "execute_result"
    },
    {
     "data": {
      "image/png": "[encoded data removed]",
      "text/plain": [
       "<Figure size 1080x504 with 1 Axes>"
      ]
     },
     "metadata": {
      "needs_background": "light"
     },
     "output_type": "display_data"
    }
   ],
   "source": [
    "plt.figure(figsize=(15,7))\n",
    "sns.boxplot(data=df,x='time_spent_on_the_page',y='language_preferred')"
   ]
  },
  {
   "cell_type": "markdown",
   "id": "ef88ac92",
   "metadata": {},
   "source": [
    "* The users who speak English have the highest median price "
   ]
  },
  {
   "cell_type": "markdown",
   "id": "af6d8862",
   "metadata": {},
   "source": [
    "## Do the users spend more time on the new landing page than on the existing landing page? "
   ]
  },
  {
   "cell_type": "markdown",
   "id": "cb540f8b",
   "metadata": {},
   "source": [
    "### Perform Visual Analysis"
   ]
  },
  {
   "cell_type": "code",
   "execution_count": 23,
   "id": "9f823527",
   "metadata": {},
   "outputs": [
    {
     "data": {
      "image/png": "[encoded data removed]",
      "text/plain": [
       "<Figure size 576x432 with 1 Axes>"
      ]
     },
     "metadata": {
      "needs_background": "light"
     },
     "output_type": "display_data"
    }
   ],
   "source": [
    "# visual analysis of the time spent on the new page and the time spent on the old page\n",
    "plt.figure(figsize=(8,6))\n",
    "sns.boxplot(x = 'landing_page', y = 'time_spent_on_the_page', data = df)\n",
    "plt.show()"
   ]
  },
  {
   "cell_type": "markdown",
   "id": "440cb3ad",
   "metadata": {},
   "source": [
    "#### Observations:\n",
    "* We see that the median time spent on the new page has a higher median time spent on the page than on the old one. It also has a couple of outliers, depicting that there are rare cases where users spent 10 minutes or more on the new landpage"
   ]
  },
  {
   "cell_type": "markdown",
   "id": "7df95ae5",
   "metadata": {},
   "source": [
    "### Step 1: Define the Null and Alternate Hypothesis"
   ]
  },
  {
   "cell_type": "markdown",
   "id": "ce84f5aa",
   "metadata": {},
   "source": [
    "H0: Does the average time spent on the new page less than or equal to the the old page?\n",
    "\n",
    "Ha: Does the average time spent on the new page greater than the average time spent on the old page?"
   ]
  },
  {
   "cell_type": "markdown",
   "id": "267fdc08",
   "metadata": {},
   "source": [
    "### Step 2: Selecting the Appropriate Test "
   ]
  },
  {
   "cell_type": "code",
   "execution_count": 24,
   "id": "221d23ed",
   "metadata": {},
   "outputs": [],
   "source": [
    "from scipy.stats import ttest_ind"
   ]
  },
  {
   "cell_type": "markdown",
   "id": "e48dbb8c",
   "metadata": {},
   "source": [
    "* We will use a t-test for this hypothesis test in order to test for the two individual population means and the two unknown standard deviations. "
   ]
  },
  {
   "cell_type": "markdown",
   "id": "440f1e7d",
   "metadata": {},
   "source": [
    "### Step 3: Deciding the Significance Level"
   ]
  },
  {
   "cell_type": "markdown",
   "id": "044b313e",
   "metadata": {},
   "source": [
    "* We will use a 5% significance level"
   ]
  },
  {
   "cell_type": "markdown",
   "id": "fef9ccfe",
   "metadata": {},
   "source": [
    "### Step 4: Collect and Prepare Data "
   ]
  },
  {
   "cell_type": "code",
   "execution_count": 25,
   "id": "1f2e9bb1",
   "metadata": {},
   "outputs": [],
   "source": [
    "new_time_spent = df[df['landing_page']=='new']['time_spent_on_the_page']\n",
    "old_time_spent = df[df['landing_page']=='old']['time_spent_on_the_page']"
   ]
  },
  {
   "cell_type": "code",
   "execution_count": 26,
   "id": "122adbb6",
   "metadata": {},
   "outputs": [
    {
     "name": "stdout",
     "output_type": "stream",
     "text": [
      "the population standard deviation is of the time spent on the new page is 1.82\n",
      "the population standard deviation is of the time spent on the old page is 2.58\n"
     ]
    }
   ],
   "source": [
    "print('the population standard deviation is of the time spent on the new page is',round(new_time_spent.std(),2))\n",
    "print('the population standard deviation is of the time spent on the old page is',round(old_time_spent.std(),2))"
   ]
  },
  {
   "cell_type": "markdown",
   "id": "ea114af0",
   "metadata": {},
   "source": [
    "* We can say based on this evidence, that this will be a t-test for unequal standard deviation"
   ]
  },
  {
   "cell_type": "markdown",
   "id": "e354a628",
   "metadata": {},
   "source": [
    "### Step 5: Finding the P-Value "
   ]
  },
  {
   "cell_type": "code",
   "execution_count": 27,
   "id": "42e38923",
   "metadata": {},
   "outputs": [
    {
     "name": "stdout",
     "output_type": "stream",
     "text": [
      "P-Value: 0.0001392381225166549\n"
     ]
    }
   ],
   "source": [
    "t_stat,p_value = ttest_ind(new_time_spent,old_time_spent,equal_var=False,alternative='greater')\n",
    "print('P-Value:',p_value)"
   ]
  },
  {
   "cell_type": "markdown",
   "id": "b9330e4b",
   "metadata": {},
   "source": [
    "### Step 6: Comparing the P-Value to the Alpha Level "
   ]
  },
  {
   "cell_type": "code",
   "execution_count": 28,
   "id": "5fec3b75",
   "metadata": {},
   "outputs": [
    {
     "name": "stdout",
     "output_type": "stream",
     "text": [
      "We reject the null hypothesis since the p-value is less than the alpha level\n"
     ]
    }
   ],
   "source": [
    "if p_value < 0.05:\n",
    "    print('We reject the null hypothesis since the p-value is less than the alpha level')\n",
    "else:\n",
    "    print('We fail to reject the null hypothesis since the p-value is greater than the alpha level')"
   ]
  },
  {
   "cell_type": "markdown",
   "id": "56e50788",
   "metadata": {},
   "source": [
    "### Step 7: Draw Inference "
   ]
  },
  {
   "cell_type": "markdown",
   "id": "7dbc3385",
   "metadata": {},
   "source": [
    "* My inference is that based in the findings, there is statistically significant evidence that the time spent on the new landing page is more than the time spent on the old landing page"
   ]
  },
  {
   "cell_type": "markdown",
   "id": "3a95fc2f",
   "metadata": {},
   "source": [
    "##  Is the conversion rate (the proportion of users who visit the landing page and get converted) for the new page greater than the conversion rate for the old page?"
   ]
  },
  {
   "cell_type": "markdown",
   "id": "a9f1e8be",
   "metadata": {},
   "source": [
    "### Perform Visual Analysis "
   ]
  },
  {
   "cell_type": "code",
   "execution_count": 29,
   "id": "6366bcac",
   "metadata": {},
   "outputs": [
    {
     "data": {
      "image/png": "[encoded data removed]",
      "text/plain": [
       "<Figure size 432x576 with 1 Axes>"
      ]
     },
     "metadata": {
      "needs_background": "light"
     },
     "output_type": "display_data"
    }
   ],
   "source": [
    "pd.crosstab(df['group'],df['converted'],normalize='index').plot(kind='bar',figsize=(6,8),stacked=True)\n",
    "plt.legend()\n",
    "plt.show()"
   ]
  },
  {
   "cell_type": "markdown",
   "id": "ab3aa015",
   "metadata": {},
   "source": [
    "* Most users in the control group did not become a suscriber to the existing page, while most users in the treatment group became users for the new landpage"
   ]
  },
  {
   "cell_type": "markdown",
   "id": "6fc0b255",
   "metadata": {},
   "source": [
    "### Step 1: Define the Null and Alternative Hypothesis "
   ]
  },
  {
   "cell_type": "markdown",
   "id": "391a1990",
   "metadata": {},
   "source": [
    "H0: Is the conversion rate for the new page less than or equal to the conversion rate for the old page?\n",
    "\n",
    "Ha: Is the converstion rate for the new page greater than the conversion rate for the old page?"
   ]
  },
  {
   "cell_type": "markdown",
   "id": "10f09bf4",
   "metadata": {},
   "source": [
    "### Step 2: Select the Appropriate Test"
   ]
  },
  {
   "cell_type": "code",
   "execution_count": 30,
   "id": "bad7673f",
   "metadata": {},
   "outputs": [],
   "source": [
    "from statsmodels.stats.proportion import proportions_ztest"
   ]
  },
  {
   "cell_type": "markdown",
   "id": "1ea78aa0",
   "metadata": {},
   "source": [
    "* This will most likely be a 2 sample proportion z-test, let's check if the assumptions are satisfied"
   ]
  },
  {
   "cell_type": "markdown",
   "id": "244d3ae4",
   "metadata": {},
   "source": [
    "### Step 3: Decide the Significance Level"
   ]
  },
  {
   "cell_type": "markdown",
   "id": "5ad00412",
   "metadata": {},
   "source": [
    "* We will use a 5% significance level"
   ]
  },
  {
   "cell_type": "markdown",
   "id": "cb0d51c4",
   "metadata": {},
   "source": [
    "### Step 4: Collecting and Preparing the Data"
   ]
  },
  {
   "cell_type": "code",
   "execution_count": 31,
   "id": "5db62b29",
   "metadata": {},
   "outputs": [
    {
     "name": "stdout",
     "output_type": "stream",
     "text": [
      "The numbers of users served the new and old pages are 50 and 50 respectively\n"
     ]
    }
   ],
   "source": [
    "new_converted = df[df['group']=='treatment']['converted'].value_counts()['yes']\n",
    "old_converted = df[df['group']=='control']['converted'].value_counts()['yes']\n",
    "n_treatment = df.group.value_counts()['treatment']\n",
    "n_control = df.group.value_counts()['control']\n",
    "\n",
    "print('The numbers of users served the new and old pages are {0} and {1} respectively'.format(n_control, n_treatment ))"
   ]
  },
  {
   "cell_type": "markdown",
   "id": "575dfa8e",
   "metadata": {},
   "source": [
    "### Step 5: Calculate the P-Value"
   ]
  },
  {
   "cell_type": "code",
   "execution_count": 32,
   "id": "dc865983",
   "metadata": {},
   "outputs": [
    {
     "name": "stdout",
     "output_type": "stream",
     "text": [
      "P-Value: 0.008026308204056278\n"
     ]
    }
   ],
   "source": [
    "t_stat,p_value=proportions_ztest([new_converted,old_converted],[n_treatment,n_control],alternative='larger')\n",
    "print('P-Value:',p_value)"
   ]
  },
  {
   "cell_type": "markdown",
   "id": "fae5ca52",
   "metadata": {},
   "source": [
    "### Step 6: Comparing the P-Value to the Alpha Level"
   ]
  },
  {
   "cell_type": "code",
   "execution_count": 33,
   "id": "dd0bce0b",
   "metadata": {},
   "outputs": [
    {
     "name": "stdout",
     "output_type": "stream",
     "text": [
      "We reject the null hypothesis since the p-value is less than the alpha level\n"
     ]
    }
   ],
   "source": [
    "if p_value<0.05:\n",
    "    print('We reject the null hypothesis since the p-value is less than the alpha level')\n",
    "else:\n",
    "    print('We fail to reject the null hypothesis since the p-value is greater than the alpha level')"
   ]
  },
  {
   "cell_type": "markdown",
   "id": "5e07600c",
   "metadata": {},
   "source": [
    "### Step 7: Draw Inference "
   ]
  },
  {
   "cell_type": "markdown",
   "id": "2e938078",
   "metadata": {},
   "source": [
    "* Since the p-value is less than the alpha level, we can say that we reject the null hypothesis and safely say that the proportion for the conversion rate is greater for the new landing page than the old one"
   ]
  },
  {
   "cell_type": "markdown",
   "id": "e8e9187d",
   "metadata": {},
   "source": [
    "## Does the converted status depend on the preferred language? "
   ]
  },
  {
   "cell_type": "markdown",
   "id": "a721ea96",
   "metadata": {},
   "source": [
    "### Perform Visual Analysis "
   ]
  },
  {
   "cell_type": "code",
   "execution_count": 34,
   "id": "8364c78b",
   "metadata": {},
   "outputs": [
    {
     "data": {
      "text/plain": [
       "<AxesSubplot:xlabel='converted'>"
      ]
     },
     "execution_count": 34,
     "metadata": {},
     "output_type": "execute_result"
    },
    {
     "data": {
      "image/png": "[encoded data removed]",
      "text/plain": [
       "<Figure size 432x576 with 1 Axes>"
      ]
     },
     "metadata": {
      "needs_background": "light"
     },
     "output_type": "display_data"
    }
   ],
   "source": [
    "pd.crosstab(df['converted'],df['language_preferred'],normalize='index').plot(kind='bar',figsize=(6,8),stacked=True)"
   ]
  },
  {
   "cell_type": "markdown",
   "id": "d968b071",
   "metadata": {},
   "source": [
    "* Most people who prefer the english language were most likely to convert to suscriber, while most users who prefer the french language did not convert to suscriber"
   ]
  },
  {
   "cell_type": "markdown",
   "id": "3c7d9a6d",
   "metadata": {},
   "source": [
    "###  Step 1: Define the Null and Alternate Hypothesis"
   ]
  },
  {
   "cell_type": "markdown",
   "id": "d98f2c72",
   "metadata": {},
   "source": [
    "H0: Is language preference independent from conversion status?\n",
    "    \n",
    "Ha: Is language preference dependent upon conversion status"
   ]
  },
  {
   "cell_type": "markdown",
   "id": "4e569cec",
   "metadata": {},
   "source": [
    "### Step 2: Selecting the Appropriate Test "
   ]
  },
  {
   "cell_type": "code",
   "execution_count": 35,
   "id": "552a2bf2",
   "metadata": {},
   "outputs": [],
   "source": [
    "from scipy.stats import chi2_contingency"
   ]
  },
  {
   "cell_type": "markdown",
   "id": "51cb3c33",
   "metadata": {},
   "source": [
    "* Since these are two categorical variables that are being tested based on independence, we will us the chi-square test of independence"
   ]
  },
  {
   "cell_type": "markdown",
   "id": "f74cf870",
   "metadata": {},
   "source": [
    "### Step 3: Selecting the Significance Level "
   ]
  },
  {
   "cell_type": "markdown",
   "id": "546f0785",
   "metadata": {},
   "source": [
    "* We will use a 5% significance level"
   ]
  },
  {
   "cell_type": "markdown",
   "id": "76aa10ad",
   "metadata": {},
   "source": [
    "### Step 4: Collect and Prepare Data "
   ]
  },
  {
   "cell_type": "code",
   "execution_count": 36,
   "id": "65ecc80e",
   "metadata": {},
   "outputs": [
    {
     "data": {
      "text/html": [
       "<div>\n",
       "<style scoped>\n",
       "    .dataframe tbody tr th:only-of-type {\n",
       "        vertical-align: middle;\n",
       "    }\n",
       "\n",
       "    .dataframe tbody tr th {\n",
       "        vertical-align: top;\n",
       "    }\n",
       "\n",
       "    .dataframe thead th {\n",
       "        text-align: right;\n",
       "    }\n",
       "</style>\n",
       "<table border=\"1\" class=\"dataframe\">\n",
       "  <thead>\n",
       "    <tr style=\"text-align: right;\">\n",
       "      <th>language_preferred</th>\n",
       "      <th>English</th>\n",
       "      <th>French</th>\n",
       "      <th>Spanish</th>\n",
       "    </tr>\n",
       "    <tr>\n",
       "      <th>converted</th>\n",
       "      <th></th>\n",
       "      <th></th>\n",
       "      <th></th>\n",
       "    </tr>\n",
       "  </thead>\n",
       "  <tbody>\n",
       "    <tr>\n",
       "      <th>no</th>\n",
       "      <td>11</td>\n",
       "      <td>19</td>\n",
       "      <td>16</td>\n",
       "    </tr>\n",
       "    <tr>\n",
       "      <th>yes</th>\n",
       "      <td>21</td>\n",
       "      <td>15</td>\n",
       "      <td>18</td>\n",
       "    </tr>\n",
       "  </tbody>\n",
       "</table>\n",
       "</div>"
      ],
      "text/plain": [
       "language_preferred  English  French  Spanish\n",
       "converted                                   \n",
       "no                       11      19       16\n",
       "yes                      21      15       18"
      ]
     },
     "execution_count": 36,
     "metadata": {},
     "output_type": "execute_result"
    }
   ],
   "source": [
    "contingency_table = pd.crosstab(df['converted'],df['language_preferred'])\n",
    "contingency_table"
   ]
  },
  {
   "cell_type": "markdown",
   "id": "f10f89b1",
   "metadata": {},
   "source": [
    "### Step 5: Finding the P-Value "
   ]
  },
  {
   "cell_type": "code",
   "execution_count": 37,
   "id": "c1596a54",
   "metadata": {},
   "outputs": [
    {
     "name": "stdout",
     "output_type": "stream",
     "text": [
      "The p-value is: 0.21298887487543447\n"
     ]
    }
   ],
   "source": [
    "chi2, p_value, dof, exp_freq = chi2_contingency(contingency_table)\n",
    "print('The p-value is:',p_value)"
   ]
  },
  {
   "cell_type": "markdown",
   "id": "6f3a5245",
   "metadata": {},
   "source": [
    "### Step 6: Compare the P-Value with the Alpha Level"
   ]
  },
  {
   "cell_type": "code",
   "execution_count": 38,
   "id": "bd2f5b09",
   "metadata": {},
   "outputs": [
    {
     "name": "stdout",
     "output_type": "stream",
     "text": [
      "As the p-value is greater than the level of significance, we fail to reject the null hypothesis.\n"
     ]
    }
   ],
   "source": [
    "if p_value < 0.05:\n",
    "    print('As the p-value is less than the level of significance, we reject the null hypothesis.')\n",
    "else:\n",
    "    print('As the p-value is greater than the level of significance, we fail to reject the null hypothesis.')"
   ]
  },
  {
   "cell_type": "markdown",
   "id": "0c5324b3",
   "metadata": {},
   "source": [
    "### Step 7: Making Inference  "
   ]
  },
  {
   "cell_type": "markdown",
   "id": "c3ecc200",
   "metadata": {},
   "source": [
    "* Since we know that the p-value is above the alpha level, we fail to reject the null hypothesis, saying that conversion status is does not depend on language preference"
   ]
  },
  {
   "cell_type": "markdown",
   "id": "5ef10ea0",
   "metadata": {},
   "source": [
    "## Is the time spent on the new page same for the different language users? "
   ]
  },
  {
   "cell_type": "markdown",
   "id": "057b7b8c",
   "metadata": {},
   "source": [
    "### Perform Visual Analysis"
   ]
  },
  {
   "cell_type": "code",
   "execution_count": 39,
   "id": "a6e5e331",
   "metadata": {},
   "outputs": [],
   "source": [
    "#Creating a new data frame for people who got served the new landpage\n",
    "df_new = df[df['landing_page']=='new']"
   ]
  },
  {
   "cell_type": "code",
   "execution_count": 40,
   "id": "ae79ffcd",
   "metadata": {},
   "outputs": [
    {
     "data": {
      "image/png": "[encoded data removed]",
      "text/plain": [
       "<Figure size 576x576 with 1 Axes>"
      ]
     },
     "metadata": {
      "needs_background": "light"
     },
     "output_type": "display_data"
    }
   ],
   "source": [
    "plt.figure(figsize=(8,8))\n",
    "sns.boxplot(data=df_new,x='language_preferred',y='time_spent_on_the_page')\n",
    "plt.show()"
   ]
  },
  {
   "cell_type": "code",
   "execution_count": 41,
   "id": "bc0be2b7",
   "metadata": {},
   "outputs": [
    {
     "data": {
      "text/plain": [
       "language_preferred\n",
       "English    6.663750\n",
       "French     6.196471\n",
       "Spanish    5.835294\n",
       "Name: time_spent_on_the_page, dtype: float64"
      ]
     },
     "execution_count": 41,
     "metadata": {},
     "output_type": "execute_result"
    }
   ],
   "source": [
    "df_new.groupby(['language_preferred'])['time_spent_on_the_page'].mean()"
   ]
  },
  {
   "cell_type": "markdown",
   "id": "c1e427d6",
   "metadata": {},
   "source": [
    "* To ensure normality, we will conduct a shapiro's test, since there seems to be a skew in some of the languages when it comes to the time spent on the new page "
   ]
  },
  {
   "cell_type": "markdown",
   "id": "c80f303d",
   "metadata": {},
   "source": [
    "#### Shapiro-Wilks Test "
   ]
  },
  {
   "cell_type": "markdown",
   "id": "8529b919",
   "metadata": {},
   "source": [
    "H0: Language Preferences follow a Normal Distribution\n",
    "\n",
    "Ha: Language Preferences do not follow a normal distribution"
   ]
  },
  {
   "cell_type": "code",
   "execution_count": 42,
   "id": "c6752663",
   "metadata": {},
   "outputs": [
    {
     "name": "stdout",
     "output_type": "stream",
     "text": [
      "p-value: 0.8040016293525696\n"
     ]
    }
   ],
   "source": [
    "from scipy import stats\n",
    "w, p_value = stats.shapiro(df_new['time_spent_on_the_page'])\n",
    "print('p-value:',p_value)"
   ]
  },
  {
   "cell_type": "markdown",
   "id": "77175d75",
   "metadata": {},
   "source": [
    "#### Levene's Test "
   ]
  },
  {
   "cell_type": "markdown",
   "id": "4e81f41d",
   "metadata": {},
   "source": [
    "H0: All population variations are equal\n",
    "    \n",
    "Ha: All population variances are NOT equal"
   ]
  },
  {
   "cell_type": "code",
   "execution_count": 43,
   "id": "ac282128",
   "metadata": {},
   "outputs": [
    {
     "name": "stdout",
     "output_type": "stream",
     "text": [
      "p-value: 0.46711357711340173\n"
     ]
    }
   ],
   "source": [
    "from scipy.stats import levene\n",
    "stat, p_value = levene(df_new['time_spent_on_the_page'][df_new['language_preferred']=='English'],\n",
    "                      df_new['time_spent_on_the_page'][df_new['language_preferred']=='Spanish'],\n",
    "                      df_new['time_spent_on_the_page'][df_new['language_preferred']=='French'])\n",
    "print('p-value:',p_value)"
   ]
  },
  {
   "cell_type": "markdown",
   "id": "00bf093b",
   "metadata": {},
   "source": [
    "* So we can see that both of the main assumptions for the test for a one-way ANOVA test are satisfied"
   ]
  },
  {
   "cell_type": "markdown",
   "id": "81ed1cbe",
   "metadata": {},
   "source": [
    "### Step 1: Define the null and alternate hypotheses "
   ]
  },
  {
   "cell_type": "markdown",
   "id": "1576efde",
   "metadata": {},
   "source": [
    "H0: The three languages time spent are NOT different from each other \n",
    "\n",
    "Ha: The three languages time spent are different from one another"
   ]
  },
  {
   "cell_type": "markdown",
   "id": "ea78caaf",
   "metadata": {},
   "source": [
    "### Step 2:  Select Appropriate Test"
   ]
  },
  {
   "cell_type": "code",
   "execution_count": 44,
   "id": "a8ae72c9",
   "metadata": {},
   "outputs": [],
   "source": [
    "from scipy.stats import f_oneway"
   ]
  },
  {
   "cell_type": "markdown",
   "id": "2c764463",
   "metadata": {},
   "source": [
    "* We will use a one-way ANOVA test for this since all assumptions are satisified"
   ]
  },
  {
   "cell_type": "markdown",
   "id": "1474d78c",
   "metadata": {},
   "source": [
    "### Step 3: Decide the Alpha Level"
   ]
  },
  {
   "cell_type": "markdown",
   "id": "83ddbf0d",
   "metadata": {},
   "source": [
    "* We will use a 5% alpha level"
   ]
  },
  {
   "cell_type": "markdown",
   "id": "67eed17b",
   "metadata": {},
   "source": [
    "### Step 4: Preparing the Data"
   ]
  },
  {
   "cell_type": "code",
   "execution_count": 45,
   "id": "d4fad5e4",
   "metadata": {},
   "outputs": [],
   "source": [
    "time_spent_English = df_new[df_new['language_preferred']==\"English\"]['time_spent_on_the_page']\n",
    "time_spent_French = df_new[df_new['language_preferred']=='French']['time_spent_on_the_page']\n",
    "time_spent_Spanish = df_new[df_new['language_preferred']=='Spanish']['time_spent_on_the_page'] "
   ]
  },
  {
   "cell_type": "markdown",
   "id": "33684403",
   "metadata": {},
   "source": [
    "### Step 5: Calculating the P-Value"
   ]
  },
  {
   "cell_type": "code",
   "execution_count": 46,
   "id": "3811dfee",
   "metadata": {},
   "outputs": [
    {
     "name": "stdout",
     "output_type": "stream",
     "text": [
      "p-value: 0.43204138694325955\n"
     ]
    }
   ],
   "source": [
    "t_stat,p_value=f_oneway(time_spent_English,time_spent_French,time_spent_Spanish)\n",
    "print('p-value:',p_value)"
   ]
  },
  {
   "cell_type": "markdown",
   "id": "e7139798",
   "metadata": {},
   "source": [
    "### Step 6: Comparing it to the Alpha Level "
   ]
  },
  {
   "cell_type": "code",
   "execution_count": 47,
   "id": "fb566640",
   "metadata": {},
   "outputs": [
    {
     "name": "stdout",
     "output_type": "stream",
     "text": [
      "As the p-value is greater than the level of significance, we fail to reject the null hypothesis.\n"
     ]
    }
   ],
   "source": [
    "if p_value < 0.05:\n",
    "    print('As the p-value is less than the level of significance, we reject the null hypothesis.')\n",
    "else:\n",
    "    print('As the p-value is greater than the level of significance, we fail to reject the null hypothesis.')"
   ]
  },
  {
   "cell_type": "markdown",
   "id": "d1addf3d",
   "metadata": {},
   "source": [
    "### Step 7: Make an Inference "
   ]
  },
  {
   "cell_type": "markdown",
   "id": "05b1acc7",
   "metadata": {},
   "source": [
    "* Since the p-value is greater than the alpha level, we fail to reject the null hypothesis due to this. We do not have enough statistical evidence that the three languages are NOT different from each other"
   ]
  },
  {
   "cell_type": "markdown",
   "id": "71201a63",
   "metadata": {},
   "source": [
    "## Conclusions and Business Recommendations"
   ]
  },
  {
   "cell_type": "markdown",
   "id": "5f9ca96b",
   "metadata": {},
   "source": [
    "* The business should focus on the new landing page, as there is a higher conversion status among this page than the old landing page. Users also spend more time on the new landing page\n",
    "\n",
    "* Since conversion status does not seem to be dependent upon language preference, in which we can stick to the English language, since that is a wide known language among users. despite the count being spanish and french users as more than english users\n",
    "\n",
    "* Since user's language preference does differ their time spent by a whole lot, we can assume that it does not affect the attractiveness of the new landpage"
   ]
  }
 ],
 "metadata": {
  "kernelspec": {
   "display_name": "Python 3 (ipykernel)",
   "language": "python",
   "name": "python3"
  },
  "language_info": {
   "codemirror_mode": {
    "name": "ipython",
    "version": 3
   },
   "file_extension": ".py",
   "mimetype": "text/x-python",
   "name": "python",
   "nbconvert_exporter": "python",
   "pygments_lexer": "ipython3",
   "version": "3.9.12"
  }
 },
 "nbformat": 4,
 "nbformat_minor": 5
}
